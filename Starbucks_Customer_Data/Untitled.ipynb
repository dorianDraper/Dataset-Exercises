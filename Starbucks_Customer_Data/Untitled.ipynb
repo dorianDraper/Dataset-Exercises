{
 "cells": [
  {
   "cell_type": "markdown",
   "id": "cf344fe4-08d2-430d-a64a-aa16f4ae9abb",
   "metadata": {},
   "source": [
    "<strong><h3 style=\"font-family:Comic Sans MS; color: #FFE933\">Starbucks Customer Data</h3></strong>"
   ]
  },
  {
   "cell_type": "markdown",
   "id": "1df94032-0344-4260-8dcf-349d7e627236",
   "metadata": {},
   "source": [
    "Before selling a product to a new market, it is helpful to know the kind of people your advertising needs to target. In this case, the product is a reusable coffee cup that is being designed and marketed for Starbucks customers."
   ]
  },
  {
   "cell_type": "code",
   "execution_count": null,
   "id": "05e26a11-6f9f-4879-a200-df5d8bc5daab",
   "metadata": {},
   "outputs": [],
   "source": []
  }
 ],
 "metadata": {
  "kernelspec": {
   "display_name": "Python 3 (ipykernel)",
   "language": "python",
   "name": "python3"
  },
  "language_info": {
   "codemirror_mode": {
    "name": "ipython",
    "version": 3
   },
   "file_extension": ".py",
   "mimetype": "text/x-python",
   "name": "python",
   "nbconvert_exporter": "python",
   "pygments_lexer": "ipython3",
   "version": "3.11.3"
  }
 },
 "nbformat": 4,
 "nbformat_minor": 5
}
