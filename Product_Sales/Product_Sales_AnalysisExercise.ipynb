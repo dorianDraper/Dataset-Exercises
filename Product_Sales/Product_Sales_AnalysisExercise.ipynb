{
 "cells": [
  {
   "cell_type": "markdown",
   "id": "d449b226-4d7a-4e5c-a395-18054ad7565d",
   "metadata": {},
   "source": [
    "<span style=\"font-family:Comic Sans MS; color: #FFE933; font-size: 30px\">Product Sales analysis</span>\n",
    "\n",
    "<strong><p style=\"font-family:Comic Sans MS; color: blue\">This is a practice exercise that Edgar did during the recap class on Wednesday 21st, here the link to the recorded class:</p></strong>https://www.youtube.com/watch?v=1POa0UfmBi8&list=PLjMIC_h0rNV1uXwxF3djOOPxsAv0-6fcl&index=11\n",
    "\n",
    "<strong><p style=\"font-family:Comic Sans MS; color: blue\">I have added the exercises Edgar did along with some others to complement the exercise which I considered interesting to analyze the dataset. Feel free to suggest others.\n",
    "</p></strong>\r\n"
   ]
  },
  {
   "cell_type": "code",
   "execution_count": 1,
   "id": "90f4cbe5-4cc2-4559-bc36-4acebe18e802",
   "metadata": {},
   "outputs": [],
   "source": [
    "import pandas as pd\n",
    "import numpy as np\n",
    "import scipy.stats as stats\n",
    "import matplotlib.pyplot as plt"
   ]
  },
  {
   "cell_type": "markdown",
   "id": "6cf86e45-9828-4cca-aa92-c71081b9fcf4",
   "metadata": {},
   "source": [
    "<strong><span style=\"color: #FF33F0\">Load the data from csv file</span></strong>"
   ]
  },
  {
   "cell_type": "code",
   "execution_count": 3,
   "id": "854327b4-e19c-4c66-bbe0-802e50d49dfd",
   "metadata": {},
   "outputs": [],
   "source": [
    "data = pd.read_csv('./PRODUCT SALES.csv')"
   ]
  },
  {
   "cell_type": "markdown",
   "id": "7ed1b877-9088-4410-884b-7ae76b1edb1b",
   "metadata": {},
   "source": [
    "<strong><span style=\"color: #FF33F0\">Get the shape of the dataset</span></strong>"
   ]
  },
  {
   "cell_type": "code",
   "execution_count": 9,
   "id": "2a260816-bc64-46b4-983f-04b2dac3fcd7",
   "metadata": {},
   "outputs": [
    {
     "data": {
      "text/plain": [
       "(113036, 16)"
      ]
     },
     "execution_count": 9,
     "metadata": {},
     "output_type": "execute_result"
    }
   ],
   "source": [
    "data.shape"
   ]
  },
  {
   "cell_type": "markdown",
   "id": "a6f80c65-e98d-4681-bb3d-38ed3e965e2f",
   "metadata": {},
   "source": [
    "<strong><span style=\"color: #FF33F0\">Display first 5 rows</span></strong>"
   ]
  },
  {
   "cell_type": "code",
   "execution_count": 4,
   "id": "ab47d38f-9742-414e-a74d-8ca8a62ff530",
   "metadata": {},
   "outputs": [
    {
     "data": {
      "text/html": [
       "<div>\n",
       "<style scoped>\n",
       "    .dataframe tbody tr th:only-of-type {\n",
       "        vertical-align: middle;\n",
       "    }\n",
       "\n",
       "    .dataframe tbody tr th {\n",
       "        vertical-align: top;\n",
       "    }\n",
       "\n",
       "    .dataframe thead th {\n",
       "        text-align: right;\n",
       "    }\n",
       "</style>\n",
       "<table border=\"1\" class=\"dataframe\">\n",
       "  <thead>\n",
       "    <tr style=\"text-align: right;\">\n",
       "      <th></th>\n",
       "      <th>Date</th>\n",
       "      <th>Day</th>\n",
       "      <th>Month</th>\n",
       "      <th>Year</th>\n",
       "      <th>Customer_Age</th>\n",
       "      <th>Age_Group</th>\n",
       "      <th>Age_Group_NUMBER</th>\n",
       "      <th>Customer_Gender</th>\n",
       "      <th>Country</th>\n",
       "      <th>Product_Category</th>\n",
       "      <th>Order_Quantity</th>\n",
       "      <th>Unit_Cost</th>\n",
       "      <th>Unit_Price</th>\n",
       "      <th>Profit</th>\n",
       "      <th>Cost</th>\n",
       "      <th>Revenue</th>\n",
       "    </tr>\n",
       "  </thead>\n",
       "  <tbody>\n",
       "    <tr>\n",
       "      <th>0</th>\n",
       "      <td>01-01-17</td>\n",
       "      <td>1</td>\n",
       "      <td>January</td>\n",
       "      <td>2017</td>\n",
       "      <td>17</td>\n",
       "      <td>Youth (&lt;25)</td>\n",
       "      <td>1</td>\n",
       "      <td>M</td>\n",
       "      <td>canada</td>\n",
       "      <td>Bikes</td>\n",
       "      <td>2</td>\n",
       "      <td>1519.0</td>\n",
       "      <td>2443.0</td>\n",
       "      <td>1848.0</td>\n",
       "      <td>3038.0</td>\n",
       "      <td>4886.0</td>\n",
       "    </tr>\n",
       "    <tr>\n",
       "      <th>1</th>\n",
       "      <td>01-01-17</td>\n",
       "      <td>1</td>\n",
       "      <td>January</td>\n",
       "      <td>2017</td>\n",
       "      <td>23</td>\n",
       "      <td>Youth (&lt;25)</td>\n",
       "      <td>1</td>\n",
       "      <td>M</td>\n",
       "      <td>Australia</td>\n",
       "      <td>Bikes</td>\n",
       "      <td>2</td>\n",
       "      <td>1252.0</td>\n",
       "      <td>2295.0</td>\n",
       "      <td>2086.0</td>\n",
       "      <td>2504.0</td>\n",
       "      <td>4590.0</td>\n",
       "    </tr>\n",
       "    <tr>\n",
       "      <th>2</th>\n",
       "      <td>01-01-17</td>\n",
       "      <td>1</td>\n",
       "      <td>January</td>\n",
       "      <td>2017</td>\n",
       "      <td>33</td>\n",
       "      <td>Young Adults (25-34)</td>\n",
       "      <td>1</td>\n",
       "      <td>F</td>\n",
       "      <td>France</td>\n",
       "      <td>Bikes</td>\n",
       "      <td>2</td>\n",
       "      <td>2171.0</td>\n",
       "      <td>3578.0</td>\n",
       "      <td>2814.0</td>\n",
       "      <td>4342.0</td>\n",
       "      <td>7156.0</td>\n",
       "    </tr>\n",
       "    <tr>\n",
       "      <th>3</th>\n",
       "      <td>01-01-17</td>\n",
       "      <td>1</td>\n",
       "      <td>January</td>\n",
       "      <td>2017</td>\n",
       "      <td>39</td>\n",
       "      <td>Adults (35-64)</td>\n",
       "      <td>1</td>\n",
       "      <td>M</td>\n",
       "      <td>United States</td>\n",
       "      <td>Bikes</td>\n",
       "      <td>2</td>\n",
       "      <td>713.0</td>\n",
       "      <td>1120.0</td>\n",
       "      <td>814.0</td>\n",
       "      <td>1426.0</td>\n",
       "      <td>2240.0</td>\n",
       "    </tr>\n",
       "    <tr>\n",
       "      <th>4</th>\n",
       "      <td>01-01-17</td>\n",
       "      <td>1</td>\n",
       "      <td>January</td>\n",
       "      <td>2017</td>\n",
       "      <td>42</td>\n",
       "      <td>Adults (35-64)</td>\n",
       "      <td>1</td>\n",
       "      <td>M</td>\n",
       "      <td>United States</td>\n",
       "      <td>Bikes</td>\n",
       "      <td>2</td>\n",
       "      <td>344.0</td>\n",
       "      <td>540.0</td>\n",
       "      <td>392.0</td>\n",
       "      <td>688.0</td>\n",
       "      <td>1080.0</td>\n",
       "    </tr>\n",
       "  </tbody>\n",
       "</table>\n",
       "</div>"
      ],
      "text/plain": [
       "       Date  Day    Month  Year  Customer_Age             Age_Group  \\\n",
       "0  01-01-17    1  January  2017            17           Youth (<25)   \n",
       "1  01-01-17    1  January  2017            23           Youth (<25)   \n",
       "2  01-01-17    1  January  2017            33  Young Adults (25-34)   \n",
       "3  01-01-17    1  January  2017            39        Adults (35-64)   \n",
       "4  01-01-17    1  January  2017            42        Adults (35-64)   \n",
       "\n",
       "   Age_Group_NUMBER Customer_Gender        Country Product_Category  \\\n",
       "0                 1               M         canada            Bikes   \n",
       "1                 1               M      Australia            Bikes   \n",
       "2                 1               F         France            Bikes   \n",
       "3                 1               M  United States            Bikes   \n",
       "4                 1               M  United States            Bikes   \n",
       "\n",
       "   Order_Quantity  Unit_Cost  Unit_Price  Profit    Cost  Revenue  \n",
       "0               2     1519.0      2443.0  1848.0  3038.0   4886.0  \n",
       "1               2     1252.0      2295.0  2086.0  2504.0   4590.0  \n",
       "2               2     2171.0      3578.0  2814.0  4342.0   7156.0  \n",
       "3               2      713.0      1120.0   814.0  1426.0   2240.0  \n",
       "4               2      344.0       540.0   392.0   688.0   1080.0  "
      ]
     },
     "execution_count": 4,
     "metadata": {},
     "output_type": "execute_result"
    }
   ],
   "source": [
    "data.head()"
   ]
  },
  {
   "cell_type": "markdown",
   "id": "71e47887-bf85-474a-9941-16d463ab4e31",
   "metadata": {},
   "source": [
    "<strong><span style=\"color: #FF33F0\">Display the column names</span></strong>"
   ]
  },
  {
   "cell_type": "code",
   "execution_count": 10,
   "id": "de1727d7-b857-4ad5-a00e-e4bd1b9876d4",
   "metadata": {},
   "outputs": [
    {
     "data": {
      "text/plain": [
       "Index(['Date', 'Day', 'Month', 'Year', 'Customer_Age', 'Age_Group',\n",
       "       'Age_Group_NUMBER', 'Customer_Gender', 'Country', 'Product_Category',\n",
       "       'Order_Quantity', 'Unit_Cost', 'Unit_Price', 'Profit', 'Cost',\n",
       "       'Revenue'],\n",
       "      dtype='object')"
      ]
     },
     "execution_count": 10,
     "metadata": {},
     "output_type": "execute_result"
    }
   ],
   "source": [
    "data.columns"
   ]
  },
  {
   "cell_type": "markdown",
   "id": "89fcce10-7b8e-4a0d-a2fc-e7e8b29abcd9",
   "metadata": {},
   "source": [
    "<strong><span style=\"color: #FF33F0\">Let's get some basic statistic information about the dataset</span></strong>"
   ]
  },
  {
   "cell_type": "code",
   "execution_count": 33,
   "id": "725eb29f-d8bb-4ca5-9b50-95363225c66f",
   "metadata": {},
   "outputs": [
    {
     "data": {
      "text/html": [
       "<div>\n",
       "<style scoped>\n",
       "    .dataframe tbody tr th:only-of-type {\n",
       "        vertical-align: middle;\n",
       "    }\n",
       "\n",
       "    .dataframe tbody tr th {\n",
       "        vertical-align: top;\n",
       "    }\n",
       "\n",
       "    .dataframe thead th {\n",
       "        text-align: right;\n",
       "    }\n",
       "</style>\n",
       "<table border=\"1\" class=\"dataframe\">\n",
       "  <thead>\n",
       "    <tr style=\"text-align: right;\">\n",
       "      <th></th>\n",
       "      <th>Day</th>\n",
       "      <th>Year</th>\n",
       "      <th>Customer_Age</th>\n",
       "      <th>Age_Group_NUMBER</th>\n",
       "      <th>Order_Quantity</th>\n",
       "      <th>Unit_Cost</th>\n",
       "      <th>Unit_Price</th>\n",
       "      <th>Profit</th>\n",
       "      <th>Cost</th>\n",
       "      <th>Revenue</th>\n",
       "    </tr>\n",
       "  </thead>\n",
       "  <tbody>\n",
       "    <tr>\n",
       "      <th>count</th>\n",
       "      <td>113036.000000</td>\n",
       "      <td>113036.000000</td>\n",
       "      <td>113036.000000</td>\n",
       "      <td>113036.0</td>\n",
       "      <td>113036.000000</td>\n",
       "      <td>113036.000000</td>\n",
       "      <td>113036.000000</td>\n",
       "      <td>113036.000000</td>\n",
       "      <td>113036.000000</td>\n",
       "      <td>113036.000000</td>\n",
       "    </tr>\n",
       "    <tr>\n",
       "      <th>mean</th>\n",
       "      <td>15.665753</td>\n",
       "      <td>2019.520153</td>\n",
       "      <td>35.919212</td>\n",
       "      <td>1.0</td>\n",
       "      <td>11.901660</td>\n",
       "      <td>267.296366</td>\n",
       "      <td>452.938427</td>\n",
       "      <td>372.681358</td>\n",
       "      <td>469.318695</td>\n",
       "      <td>842.000053</td>\n",
       "    </tr>\n",
       "    <tr>\n",
       "      <th>std</th>\n",
       "      <td>8.781567</td>\n",
       "      <td>1.179704</td>\n",
       "      <td>11.021936</td>\n",
       "      <td>0.0</td>\n",
       "      <td>9.561857</td>\n",
       "      <td>549.835483</td>\n",
       "      <td>922.071219</td>\n",
       "      <td>595.080571</td>\n",
       "      <td>884.866118</td>\n",
       "      <td>1466.202934</td>\n",
       "    </tr>\n",
       "    <tr>\n",
       "      <th>min</th>\n",
       "      <td>1.000000</td>\n",
       "      <td>2017.000000</td>\n",
       "      <td>17.000000</td>\n",
       "      <td>1.0</td>\n",
       "      <td>1.000000</td>\n",
       "      <td>1.000000</td>\n",
       "      <td>2.000000</td>\n",
       "      <td>1.000000</td>\n",
       "      <td>1.000000</td>\n",
       "      <td>2.000000</td>\n",
       "    </tr>\n",
       "    <tr>\n",
       "      <th>25%</th>\n",
       "      <td>8.000000</td>\n",
       "      <td>2019.000000</td>\n",
       "      <td>28.000000</td>\n",
       "      <td>1.0</td>\n",
       "      <td>2.000000</td>\n",
       "      <td>2.000000</td>\n",
       "      <td>5.000000</td>\n",
       "      <td>39.000000</td>\n",
       "      <td>28.000000</td>\n",
       "      <td>70.000000</td>\n",
       "    </tr>\n",
       "    <tr>\n",
       "      <th>50%</th>\n",
       "      <td>16.000000</td>\n",
       "      <td>2019.500000</td>\n",
       "      <td>35.000000</td>\n",
       "      <td>1.0</td>\n",
       "      <td>10.000000</td>\n",
       "      <td>9.000000</td>\n",
       "      <td>24.000000</td>\n",
       "      <td>135.000000</td>\n",
       "      <td>108.000000</td>\n",
       "      <td>245.000000</td>\n",
       "    </tr>\n",
       "    <tr>\n",
       "      <th>75%</th>\n",
       "      <td>23.000000</td>\n",
       "      <td>2021.000000</td>\n",
       "      <td>43.000000</td>\n",
       "      <td>1.0</td>\n",
       "      <td>20.000000</td>\n",
       "      <td>42.000000</td>\n",
       "      <td>70.000000</td>\n",
       "      <td>432.000000</td>\n",
       "      <td>432.000000</td>\n",
       "      <td>880.000000</td>\n",
       "    </tr>\n",
       "    <tr>\n",
       "      <th>max</th>\n",
       "      <td>31.000000</td>\n",
       "      <td>2021.000000</td>\n",
       "      <td>87.000000</td>\n",
       "      <td>1.0</td>\n",
       "      <td>32.000000</td>\n",
       "      <td>2171.000000</td>\n",
       "      <td>3578.000000</td>\n",
       "      <td>26158.000000</td>\n",
       "      <td>42978.000000</td>\n",
       "      <td>69136.000000</td>\n",
       "    </tr>\n",
       "  </tbody>\n",
       "</table>\n",
       "</div>"
      ],
      "text/plain": [
       "                 Day           Year   Customer_Age  Age_Group_NUMBER  \\\n",
       "count  113036.000000  113036.000000  113036.000000          113036.0   \n",
       "mean       15.665753    2019.520153      35.919212               1.0   \n",
       "std         8.781567       1.179704      11.021936               0.0   \n",
       "min         1.000000    2017.000000      17.000000               1.0   \n",
       "25%         8.000000    2019.000000      28.000000               1.0   \n",
       "50%        16.000000    2019.500000      35.000000               1.0   \n",
       "75%        23.000000    2021.000000      43.000000               1.0   \n",
       "max        31.000000    2021.000000      87.000000               1.0   \n",
       "\n",
       "       Order_Quantity      Unit_Cost     Unit_Price         Profit  \\\n",
       "count   113036.000000  113036.000000  113036.000000  113036.000000   \n",
       "mean        11.901660     267.296366     452.938427     372.681358   \n",
       "std          9.561857     549.835483     922.071219     595.080571   \n",
       "min          1.000000       1.000000       2.000000       1.000000   \n",
       "25%          2.000000       2.000000       5.000000      39.000000   \n",
       "50%         10.000000       9.000000      24.000000     135.000000   \n",
       "75%         20.000000      42.000000      70.000000     432.000000   \n",
       "max         32.000000    2171.000000    3578.000000   26158.000000   \n",
       "\n",
       "                Cost        Revenue  \n",
       "count  113036.000000  113036.000000  \n",
       "mean      469.318695     842.000053  \n",
       "std       884.866118    1466.202934  \n",
       "min         1.000000       2.000000  \n",
       "25%        28.000000      70.000000  \n",
       "50%       108.000000     245.000000  \n",
       "75%       432.000000     880.000000  \n",
       "max     42978.000000   69136.000000  "
      ]
     },
     "execution_count": 33,
     "metadata": {},
     "output_type": "execute_result"
    }
   ],
   "source": [
    "data.describe()"
   ]
  },
  {
   "cell_type": "markdown",
   "id": "94a6817a-e68b-4411-aecb-8107070ccdf1",
   "metadata": {},
   "source": [
    "<strong><p style=\"color: blue\">For some types of data, count sometimes doesn't make sense like since we are going to have the same result (count of rows). However it is useful for numerical values like Customer_Age has sense to have the mean for example. So we have interesting data such as the Customer_Age mean, the min (17) and max (87) age of customers.<br>\n",
    "Also we can assume that customer age is distributed as Normal Distribution (Gaussian Bell) with a mean of 35 and std of 11. Let's plot the results using scipy.stats  \n",
    "</p></strong>"
   ]
  },
  {
   "cell_type": "markdown",
   "id": "524a83f3-b240-47e8-814c-029e05bc281e",
   "metadata": {},
   "source": [
    "<strong><span style=\"color: #FF33F0\">Let's plot the customer age data</span></strong>"
   ]
  },
  {
   "cell_type": "code",
   "execution_count": 42,
   "id": "d021fca4-c732-4cbb-a477-74b928b1b2be",
   "metadata": {},
   "outputs": [
    {
     "name": "stdout",
     "output_type": "stream",
     "text": [
      "Axes(0.125,0.11;0.775x0.77)\n"
     ]
    },
    {
     "data": {
      "image/png": "[encoded data removed]",
      "text/plain": [
       "<Figure size 640x480 with 1 Axes>"
      ]
     },
     "metadata": {},
     "output_type": "display_data"
    }
   ],
   "source": [
    "## We assume there is a normal distribution so we proceed as below:\n",
    "# age_mean = np.mean(data['Customer_Age'])\n",
    "# age_std = np.std(data['Customer_Age'])\n",
    "\n",
    "# normal_numbers = stats.norm.rvs(loc= age_mean, scale= age_std, size=10000)\n",
    "# plt.hist(normal_numbers)\n",
    "## However, when we plot the above we don't see the real data, in the sense there are values below 17 and above 87 which are the min and max, respectively\n",
    "\n",
    "# Therefore, by plotting the data as below, we see the real distribution of data\n",
    "plt.xlabel('Customer Age')\n",
    "plt.ylabel('Count')\n",
    "plt.title('Customer Age distribution')\n",
    "print(data['Customer_Age'].hist()) # also we can write  plt.hist(data.Customer_Age)"
   ]
  },
  {
   "cell_type": "markdown",
   "id": "0600060a-8e07-4590-9045-fd8e910aaffc",
   "metadata": {},
   "source": [
    "<strong><span style=\"color: #FF33F0\">What type of products does the dataset have?</span></strong>"
   ]
  },
  {
   "cell_type": "code",
   "execution_count": 25,
   "id": "d9435532-d8ff-4656-8d10-02491a850ef0",
   "metadata": {},
   "outputs": [
    {
     "data": {
      "text/plain": [
       "array(['Bikes', 'Accessories', 'Clothing'], dtype=object)"
      ]
     },
     "execution_count": 25,
     "metadata": {},
     "output_type": "execute_result"
    }
   ],
   "source": [
    "data['Product_Category'].unique()"
   ]
  },
  {
   "cell_type": "markdown",
   "id": "1c79bb24-0b88-4fa7-a5c4-4563dc44dac1",
   "metadata": {},
   "source": [
    "<strong><span style=\"color: #FF33F0\">Now show the count the products</span></strong>"
   ]
  },
  {
   "cell_type": "code",
   "execution_count": 46,
   "id": "2ef5b62c-f60a-4ea8-b419-87d0d3fdb129",
   "metadata": {},
   "outputs": [
    {
     "data": {
      "text/plain": [
       "Product_Category\n",
       "Accessories    70120\n",
       "Bikes          25982\n",
       "Clothing       16934\n",
       "Name: count, dtype: int64"
      ]
     },
     "execution_count": 46,
     "metadata": {},
     "output_type": "execute_result"
    }
   ],
   "source": [
    "data['Product_Category'].value_counts()"
   ]
  },
  {
   "cell_type": "markdown",
   "id": "380f2ba8-6e0e-4a18-a246-9495925bdcac",
   "metadata": {},
   "source": [
    "<strong><span style=\"color: #FF33F0\">Is there a difference in profit for gender?</span></strong>"
   ]
  },
  {
   "cell_type": "code",
   "execution_count": 48,
   "id": "af44b162-4283-4d50-9b0f-41e6e116699d",
   "metadata": {},
   "outputs": [
    {
     "name": "stdout",
     "output_type": "stream",
     "text": [
      "368.4095726437097\n",
      "377.23322491045974\n"
     ]
    }
   ],
   "source": [
    "# mean profit for Male\n",
    "mean_profit_male = data[data['Customer_Gender'] == 'M']['Profit'].mean()\n",
    "mean_profit_female = data[data['Customer_Gender'] == 'F']['Profit'].mean()\n",
    "print(mean_profit_male)\n",
    "print(mean_profit_female)"
   ]
  },
  {
   "cell_type": "markdown",
   "id": "4a80b4ff-6df2-4482-bab0-e6e38b265c96",
   "metadata": {},
   "source": [
    "<strong><span style=\"color: blue\">We want to test the above data and confirm there is a . The null hypothesis is there is no difference between profit for gender, and the alternative hypothesis is that there is significant difference.</span></strong>\n",
    "<br>\n",
    "<br>\n",
    "<strong><span style=\"color: #FF33F0\">Let's test the profit for gender data using T-Test</span></strong>"
   ]
  },
  {
   "cell_type": "code",
   "execution_count": 50,
   "id": "085c4d14-699c-474d-8502-2e9e2f46ce6f",
   "metadata": {},
   "outputs": [
    {
     "data": {
      "text/plain": [
       "TtestResult(statistic=-2.4913922626943656, pvalue=0.012725777563722436, df=113034.0)"
      ]
     },
     "execution_count": 50,
     "metadata": {},
     "output_type": "execute_result"
    }
   ],
   "source": [
    "group_1 = data[data['Customer_Gender'] == 'M']['Profit']\n",
    "group_2 = data[data['Customer_Gender'] == 'F']['Profit']\n",
    "\n",
    "stats.ttest_ind(group_1, group_2)\n",
    "# considering a significance value of 0.05 we can confirm there is a difference due to the pvalue is less than 0.05"
   ]
  },
  {
   "cell_type": "markdown",
   "id": "28f4c307-5eab-4928-965e-28abecd10436",
   "metadata": {},
   "source": [
    "<strong><span style=\"color: #FF33F0\">In which countries do we sell the products?</span></strong>"
   ]
  },
  {
   "cell_type": "code",
   "execution_count": 13,
   "id": "279e8eae-6190-47f7-b822-c281354f7d18",
   "metadata": {},
   "outputs": [
    {
     "data": {
      "text/plain": [
       "array(['canada', 'Australia', 'France', 'United States', 'United Kingdom',\n",
       "       'Germany'], dtype=object)"
      ]
     },
     "execution_count": 13,
     "metadata": {},
     "output_type": "execute_result"
    }
   ],
   "source": [
    "data['Country'].unique()"
   ]
  },
  {
   "cell_type": "markdown",
   "id": "4129f7e4-66f8-47f8-9567-6a6b724fb6d5",
   "metadata": {},
   "source": [
    "<strong><span style=\"color: #FF33F0\">Display profit by countries</span></strong>"
   ]
  },
  {
   "cell_type": "code",
   "execution_count": 20,
   "id": "9533c4b6-e298-405c-857b-e89c3bf4a476",
   "metadata": {},
   "outputs": [
    {
     "name": "stdout",
     "output_type": "stream",
     "text": [
      "Country\n",
      "Australia         10901557.0\n",
      "France             4294623.0\n",
      "Germany            4363602.0\n",
      "United Kingdom     4857663.0\n",
      "United States     13912871.0\n",
      "canada             3796094.0\n",
      "Name: Profit, dtype: float64\n",
      " \n",
      "The country with the highest profit is United States with a profit of 13912871.0\n",
      " \n"
     ]
    }
   ],
   "source": [
    "print(data.groupby('Country')['Profit'].sum())\n",
    "print(' ')\n",
    "print('The country with the highest profit is', data.groupby('Country')['Profit'].sum().idxmax(), 'with a profit of', data.groupby('Country')['Profit'].sum().max())\n",
    "print(' ')"
   ]
  },
  {
   "cell_type": "markdown",
   "id": "d6fb7deb-72a4-4f19-aff6-c6d11c496375",
   "metadata": {},
   "source": [
    "<strong><span style=\"color: #FF33F0\">Display the distribution of products by country</span></strong>"
   ]
  },
  {
   "cell_type": "code",
   "execution_count": 26,
   "id": "bb9efa43-43fe-4b43-ad21-d3be95c88e9a",
   "metadata": {},
   "outputs": [
    {
     "data": {
      "text/plain": [
       "Country         Product_Category\n",
       "Australia       Accessories         203062\n",
       "                Bikes                10156\n",
       "                Clothing             50367\n",
       "France          Accessories         101433\n",
       "                Bikes                 3812\n",
       "                Clothing             23750\n",
       "Germany         Accessories          98682\n",
       "                Bikes                 4173\n",
       "                Clothing             22865\n",
       "United Kingdom  Accessories         122364\n",
       "                Bikes                 4833\n",
       "                Clothing             30021\n",
       "United States   Accessories         374749\n",
       "                Bikes                11192\n",
       "                Clothing             91598\n",
       "canada          Accessories         153872\n",
       "                Bikes                 2245\n",
       "                Clothing             36142\n",
       "Name: Order_Quantity, dtype: int64"
      ]
     },
     "execution_count": 26,
     "metadata": {},
     "output_type": "execute_result"
    }
   ],
   "source": [
    "data.groupby(['Country', 'Product_Category'])['Order_Quantity'].sum()"
   ]
  },
  {
   "cell_type": "markdown",
   "id": "5864a3f4-eb29-4c0c-9b41-89a6c9dee2b6",
   "metadata": {},
   "source": [
    "<strong><span style=\"color: #FF33F0\">Which country has the highest bikes sales?</span></strong>"
   ]
  },
  {
   "cell_type": "code",
   "execution_count": 31,
   "id": "cf0efbef-b31e-4449-b009-a178e709ba99",
   "metadata": {},
   "outputs": [
    {
     "name": "stdout",
     "output_type": "stream",
     "text": [
      "The country with the highest amount of bikes sold is United States with a total of 11192\n"
     ]
    }
   ],
   "source": [
    "print('The country with the highest amount of bikes sold is', data[data['Product_Category'] == 'Bikes'].groupby('Country')['Order_Quantity'].sum().idxmax(), 'with a total of', data[data['Product_Category'] == 'Bikes'].groupby('Country')['Order_Quantity'].sum().max())"
   ]
  },
  {
   "cell_type": "markdown",
   "id": "2e4c0536-874e-41d0-a11b-a9884c3b9251",
   "metadata": {},
   "source": [
    "<strong><p style=\"font-family:Comic Sans MS; color: blue\">Now let's perform some more hypothesis testing using ANOVA test to analyze the profit differences on Age_Group and Country</p></strong>"
   ]
  },
  {
   "cell_type": "markdown",
   "id": "370d4c5b-e528-4392-a703-5323ccc69d86",
   "metadata": {},
   "source": [
    "<strong>\n",
    "<p style=\"color: #FF33F0\">\n",
    "Perform a one-way ANOVA test to compare the means of profit for each country\n",
    "    <ul style=\"color: #FF33F0\">\n",
    "        <li>Null Hypothesis: There is no significant difference between the means of profit for each country</li>\n",
    "        <li>Alternative Hypothesis: There is significant difference between the means of profit for each country</li>\n",
    "    </ul>\n",
    "</p></strong>"
   ]
  },
  {
   "cell_type": "code",
   "execution_count": 52,
   "id": "8d829797-8f38-4006-8d1e-34928ceafd63",
   "metadata": {},
   "outputs": [
    {
     "name": "stdout",
     "output_type": "stream",
     "text": [
      "F-Statistic: 196.06289744987376, P-Value: 8.970606044577626e-209\n",
      "Reject the null hypothesis: there is a significant difference the means of profit for each country\n"
     ]
    }
   ],
   "source": [
    "countries = data['Country'].unique()  # unique country names list \n",
    "countries_profit = {}  # initialize an empty dictionary that will store the profit values for each country\n",
    "for country in countries:\n",
    "    countries_profit[country] = data[data['Country'] == country]['Profit']\n",
    "\n",
    "f_statistic, p_value = stats.f_oneway(*countries_profit.values())  \n",
    "# the * operator is used to unpack this collection of values into separate arguments because the f_oneway function expects each group of values\n",
    "# to be passed as a separate argument, not as a single collection of groups\n",
    "print(f'F-Statistic: {f_statistic}, P-Value: {p_value}')\n",
    "\n",
    "# Our conclusions baseed on the p-value taking account of alpha=0.05\n",
    "if p_value < 0.05:\n",
    "    print('Reject the null hypothesis: there is a significant difference the means of profit for each country')\n",
    "else:\n",
    "    print('Fail to reject the null hypothesis: there is no significant difference betweent the means of profit for each country')"
   ]
  },
  {
   "cell_type": "markdown",
   "id": "428ce017-1651-4cfe-84f8-3d189b96be55",
   "metadata": {},
   "source": [
    "<strong>\n",
    "<p style=\"color: #FF33F0\">\n",
    "Perform a one-way ANOVA test to compare the means of profit for each the age groups\n",
    "    <ul style=\"color: #FF33F0\">\n",
    "        <li>Null Hypothesis: There is no significant difference between the means of profit for each age group</li>\n",
    "        <li>Alternative Hypothesis: There is significant difference between the means of profit for each age group</li>\n",
    "    </ul>\n",
    "</p></strong>"
   ]
  },
  {
   "cell_type": "code",
   "execution_count": 54,
   "id": "1b7392cd-3538-487d-89a6-eae562396cb3",
   "metadata": {},
   "outputs": [
    {
     "name": "stdout",
     "output_type": "stream",
     "text": [
      "['Youth (<25)' 'Young Adults (25-34)' 'Adults (35-64)' 'Seniors (64+)']\n",
      "F-Statistic: 57.56806492529572, P-Value: 3.5410961589774696e-37\n",
      "Reject the null hypothesis: there is a significant difference the means of profit for each age group\n"
     ]
    }
   ],
   "source": [
    "print(data['Age_Group'].unique())\n",
    "age_groups = data['Age_Group'].unique()\n",
    "age_groups_profit = {}\n",
    "for age_group in age_groups:\n",
    "    age_groups_profit[age_group] = data[data['Age_Group'] == age_group]['Profit']\n",
    "\n",
    "f_statistic, p_value = stats.f_oneway(*age_groups_profit.values())\n",
    "print(f'F-Statistic: {f_statistic}, P-Value: {p_value}')\n",
    "\n",
    "# Our conclusions baseed on the p-value taking account of alpha=0.05\n",
    "if p_value < 0.05:\n",
    "    print('Reject the null hypothesis: there is a significant difference the means of profit for each age group')\n",
    "else:\n",
    "    print('Fail to reject the null hypothesis: there is no significant difference betweent the means of profit for each age group')"
   ]
  }
 ],
 "metadata": {
  "kernelspec": {
   "display_name": "Python 3 (ipykernel)",
   "language": "python",
   "name": "python3"
  },
  "language_info": {
   "codemirror_mode": {
    "name": "ipython",
    "version": 3
   },
   "file_extension": ".py",
   "mimetype": "text/x-python",
   "name": "python",
   "nbconvert_exporter": "python",
   "pygments_lexer": "ipython3",
   "version": "3.11.3"
  }
 },
 "nbformat": 4,
 "nbformat_minor": 5
}
