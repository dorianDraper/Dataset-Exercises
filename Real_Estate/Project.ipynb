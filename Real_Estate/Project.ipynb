{
 "cells": [
  {
   "cell_type": "markdown",
   "id": "e95f9423-15d3-4d8c-9456-d8514e5eba67",
   "metadata": {},
   "source": [
    "<span style=\"font-family:Comic Sans MS; color:green; font-size: 30px\">Real Estate Data Cleanup</span>\n",
    "\n",
    "First module project. This data contains registers from Fotocasa which is one of the most popular websites of real estate in Spain.\n",
    "The objective of the project is to extract as much information as possible with the knowledge acquired so far about data science.\r\n"
   ]
  },
  {
   "cell_type": "code",
   "execution_count": 129,
   "id": "27b5edb3-2c19-4b6f-8d0a-f0f21507930c",
   "metadata": {},
   "outputs": [],
   "source": [
    "import pandas as pd \n",
    "import numpy as np\n",
    "import matplotlib.pyplot as plt"
   ]
  },
  {
   "cell_type": "markdown",
   "id": "f6e233da-e54a-47b9-be80-ffa35c49ef0e",
   "metadata": {},
   "source": [
    "#### Exercise 00: Read the data from the csv file and try to visualize the table"
   ]
  },
  {
   "cell_type": "code",
   "execution_count": 130,
   "id": "d9c4b570-213b-467c-a097-a2b9abb09044",
   "metadata": {},
   "outputs": [
    {
     "data": {
      "text/html": [
       "<div>\n",
       "<style scoped>\n",
       "    .dataframe tbody tr th:only-of-type {\n",
       "        vertical-align: middle;\n",
       "    }\n",
       "\n",
       "    .dataframe tbody tr th {\n",
       "        vertical-align: top;\n",
       "    }\n",
       "\n",
       "    .dataframe thead th {\n",
       "        text-align: right;\n",
       "    }\n",
       "</style>\n",
       "<table border=\"1\" class=\"dataframe\">\n",
       "  <thead>\n",
       "    <tr style=\"text-align: right;\">\n",
       "      <th></th>\n",
       "      <th>Unnamed: 0</th>\n",
       "      <th>id_realEstates</th>\n",
       "      <th>isNew</th>\n",
       "      <th>realEstate_name</th>\n",
       "      <th>phone_realEstate</th>\n",
       "      <th>url_inmueble</th>\n",
       "      <th>rooms</th>\n",
       "      <th>bathrooms</th>\n",
       "      <th>surface</th>\n",
       "      <th>price</th>\n",
       "      <th>...</th>\n",
       "      <th>level4Id</th>\n",
       "      <th>level5Id</th>\n",
       "      <th>level6Id</th>\n",
       "      <th>level7Id</th>\n",
       "      <th>level8Id</th>\n",
       "      <th>accuracy</th>\n",
       "      <th>latitude</th>\n",
       "      <th>longitude</th>\n",
       "      <th>zipCode</th>\n",
       "      <th>customZone</th>\n",
       "    </tr>\n",
       "  </thead>\n",
       "  <tbody>\n",
       "    <tr>\n",
       "      <th>0</th>\n",
       "      <td>1</td>\n",
       "      <td>153771986</td>\n",
       "      <td>False</td>\n",
       "      <td>ferrari 57 inmobiliaria</td>\n",
       "      <td>912177526.0</td>\n",
       "      <td>https://www.fotocasa.es/es/comprar/vivienda/ma...</td>\n",
       "      <td>3.0</td>\n",
       "      <td>2.0</td>\n",
       "      <td>103.0</td>\n",
       "      <td>195000</td>\n",
       "      <td>...</td>\n",
       "      <td>0</td>\n",
       "      <td>0</td>\n",
       "      <td>0</td>\n",
       "      <td>0</td>\n",
       "      <td>0</td>\n",
       "      <td>0</td>\n",
       "      <td>40,2948276786438</td>\n",
       "      <td>-3,44402412135624</td>\n",
       "      <td>NaN</td>\n",
       "      <td>NaN</td>\n",
       "    </tr>\n",
       "    <tr>\n",
       "      <th>1</th>\n",
       "      <td>2</td>\n",
       "      <td>153867863</td>\n",
       "      <td>False</td>\n",
       "      <td>tecnocasa fuenlabrada ferrocarril</td>\n",
       "      <td>916358736.0</td>\n",
       "      <td>https://www.fotocasa.es/es/comprar/vivienda/ma...</td>\n",
       "      <td>3.0</td>\n",
       "      <td>1.0</td>\n",
       "      <td>NaN</td>\n",
       "      <td>89000</td>\n",
       "      <td>...</td>\n",
       "      <td>0</td>\n",
       "      <td>0</td>\n",
       "      <td>0</td>\n",
       "      <td>0</td>\n",
       "      <td>0</td>\n",
       "      <td>1</td>\n",
       "      <td>40,28674</td>\n",
       "      <td>-3,79351</td>\n",
       "      <td>NaN</td>\n",
       "      <td>NaN</td>\n",
       "    </tr>\n",
       "    <tr>\n",
       "      <th>2</th>\n",
       "      <td>3</td>\n",
       "      <td>153430440</td>\n",
       "      <td>False</td>\n",
       "      <td>look find boadilla</td>\n",
       "      <td>916350408.0</td>\n",
       "      <td>https://www.fotocasa.es/es/comprar/vivienda/ma...</td>\n",
       "      <td>2.0</td>\n",
       "      <td>2.0</td>\n",
       "      <td>99.0</td>\n",
       "      <td>390000</td>\n",
       "      <td>...</td>\n",
       "      <td>0</td>\n",
       "      <td>0</td>\n",
       "      <td>0</td>\n",
       "      <td>0</td>\n",
       "      <td>0</td>\n",
       "      <td>0</td>\n",
       "      <td>40,4115646786438</td>\n",
       "      <td>-3,90662252135624</td>\n",
       "      <td>NaN</td>\n",
       "      <td>NaN</td>\n",
       "    </tr>\n",
       "    <tr>\n",
       "      <th>3</th>\n",
       "      <td>4</td>\n",
       "      <td>152776331</td>\n",
       "      <td>False</td>\n",
       "      <td>tecnocasa fuenlabrada ferrocarril</td>\n",
       "      <td>916358736.0</td>\n",
       "      <td>https://www.fotocasa.es/es/comprar/vivienda/ma...</td>\n",
       "      <td>3.0</td>\n",
       "      <td>1.0</td>\n",
       "      <td>86.0</td>\n",
       "      <td>89000</td>\n",
       "      <td>...</td>\n",
       "      <td>0</td>\n",
       "      <td>0</td>\n",
       "      <td>0</td>\n",
       "      <td>0</td>\n",
       "      <td>0</td>\n",
       "      <td>0</td>\n",
       "      <td>40,2853785786438</td>\n",
       "      <td>-3,79508142135624</td>\n",
       "      <td>NaN</td>\n",
       "      <td>NaN</td>\n",
       "    </tr>\n",
       "    <tr>\n",
       "      <th>4</th>\n",
       "      <td>5</td>\n",
       "      <td>153180188</td>\n",
       "      <td>False</td>\n",
       "      <td>ferrari 57 inmobiliaria</td>\n",
       "      <td>912177526.0</td>\n",
       "      <td>https://www.fotocasa.es/es/comprar/vivienda/ma...</td>\n",
       "      <td>2.0</td>\n",
       "      <td>2.0</td>\n",
       "      <td>106.0</td>\n",
       "      <td>172000</td>\n",
       "      <td>...</td>\n",
       "      <td>0</td>\n",
       "      <td>0</td>\n",
       "      <td>0</td>\n",
       "      <td>0</td>\n",
       "      <td>0</td>\n",
       "      <td>0</td>\n",
       "      <td>40,2998774864376</td>\n",
       "      <td>-3,45226301356237</td>\n",
       "      <td>NaN</td>\n",
       "      <td>NaN</td>\n",
       "    </tr>\n",
       "    <tr>\n",
       "      <th>...</th>\n",
       "      <td>...</td>\n",
       "      <td>...</td>\n",
       "      <td>...</td>\n",
       "      <td>...</td>\n",
       "      <td>...</td>\n",
       "      <td>...</td>\n",
       "      <td>...</td>\n",
       "      <td>...</td>\n",
       "      <td>...</td>\n",
       "      <td>...</td>\n",
       "      <td>...</td>\n",
       "      <td>...</td>\n",
       "      <td>...</td>\n",
       "      <td>...</td>\n",
       "      <td>...</td>\n",
       "      <td>...</td>\n",
       "      <td>...</td>\n",
       "      <td>...</td>\n",
       "      <td>...</td>\n",
       "      <td>...</td>\n",
       "      <td>...</td>\n",
       "    </tr>\n",
       "    <tr>\n",
       "      <th>15330</th>\n",
       "      <td>15331</td>\n",
       "      <td>153901377</td>\n",
       "      <td>False</td>\n",
       "      <td>infocasa consulting</td>\n",
       "      <td>911360461.0</td>\n",
       "      <td>https://www.fotocasa.es/es/comprar/vivienda/ma...</td>\n",
       "      <td>2.0</td>\n",
       "      <td>1.0</td>\n",
       "      <td>96.0</td>\n",
       "      <td>259470</td>\n",
       "      <td>...</td>\n",
       "      <td>0</td>\n",
       "      <td>0</td>\n",
       "      <td>0</td>\n",
       "      <td>0</td>\n",
       "      <td>0</td>\n",
       "      <td>0</td>\n",
       "      <td>40,45416</td>\n",
       "      <td>-3,70286</td>\n",
       "      <td>NaN</td>\n",
       "      <td>NaN</td>\n",
       "    </tr>\n",
       "    <tr>\n",
       "      <th>15331</th>\n",
       "      <td>15332</td>\n",
       "      <td>150394373</td>\n",
       "      <td>False</td>\n",
       "      <td>inmobiliaria pulpon</td>\n",
       "      <td>912788039.0</td>\n",
       "      <td>https://www.fotocasa.es/es/comprar/vivienda/ma...</td>\n",
       "      <td>3.0</td>\n",
       "      <td>1.0</td>\n",
       "      <td>150.0</td>\n",
       "      <td>165000</td>\n",
       "      <td>...</td>\n",
       "      <td>0</td>\n",
       "      <td>0</td>\n",
       "      <td>0</td>\n",
       "      <td>0</td>\n",
       "      <td>0</td>\n",
       "      <td>0</td>\n",
       "      <td>40,36652</td>\n",
       "      <td>-3,48951</td>\n",
       "      <td>NaN</td>\n",
       "      <td>NaN</td>\n",
       "    </tr>\n",
       "    <tr>\n",
       "      <th>15332</th>\n",
       "      <td>15333</td>\n",
       "      <td>153901397</td>\n",
       "      <td>False</td>\n",
       "      <td>tecnocasa torrelodones</td>\n",
       "      <td>912780348.0</td>\n",
       "      <td>https://www.fotocasa.es/es/comprar/vivienda/ma...</td>\n",
       "      <td>4.0</td>\n",
       "      <td>2.0</td>\n",
       "      <td>175.0</td>\n",
       "      <td>495000</td>\n",
       "      <td>...</td>\n",
       "      <td>0</td>\n",
       "      <td>0</td>\n",
       "      <td>0</td>\n",
       "      <td>0</td>\n",
       "      <td>0</td>\n",
       "      <td>0</td>\n",
       "      <td>40,57444</td>\n",
       "      <td>-3,92124</td>\n",
       "      <td>NaN</td>\n",
       "      <td>NaN</td>\n",
       "    </tr>\n",
       "    <tr>\n",
       "      <th>15333</th>\n",
       "      <td>15334</td>\n",
       "      <td>152607440</td>\n",
       "      <td>False</td>\n",
       "      <td>inmobiliaria pulpon</td>\n",
       "      <td>912788039.0</td>\n",
       "      <td>https://www.fotocasa.es/es/comprar/vivienda/ma...</td>\n",
       "      <td>3.0</td>\n",
       "      <td>2.0</td>\n",
       "      <td>101.0</td>\n",
       "      <td>195000</td>\n",
       "      <td>...</td>\n",
       "      <td>0</td>\n",
       "      <td>0</td>\n",
       "      <td>0</td>\n",
       "      <td>0</td>\n",
       "      <td>0</td>\n",
       "      <td>0</td>\n",
       "      <td>40,36967</td>\n",
       "      <td>-3,48105</td>\n",
       "      <td>NaN</td>\n",
       "      <td>NaN</td>\n",
       "    </tr>\n",
       "    <tr>\n",
       "      <th>15334</th>\n",
       "      <td>15335</td>\n",
       "      <td>153901356</td>\n",
       "      <td>False</td>\n",
       "      <td>infocasa consulting</td>\n",
       "      <td>911360461.0</td>\n",
       "      <td>https://www.fotocasa.es/es/comprar/vivienda/ma...</td>\n",
       "      <td>3.0</td>\n",
       "      <td>2.0</td>\n",
       "      <td>152.0</td>\n",
       "      <td>765000</td>\n",
       "      <td>...</td>\n",
       "      <td>0</td>\n",
       "      <td>0</td>\n",
       "      <td>0</td>\n",
       "      <td>0</td>\n",
       "      <td>0</td>\n",
       "      <td>0</td>\n",
       "      <td>40,45773</td>\n",
       "      <td>-3,69068</td>\n",
       "      <td>NaN</td>\n",
       "      <td>NaN</td>\n",
       "    </tr>\n",
       "  </tbody>\n",
       "</table>\n",
       "<p>15335 rows × 37 columns</p>\n",
       "</div>"
      ],
      "text/plain": [
       "       Unnamed: 0  id_realEstates  isNew                    realEstate_name  \\\n",
       "0               1       153771986  False            ferrari 57 inmobiliaria   \n",
       "1               2       153867863  False  tecnocasa fuenlabrada ferrocarril   \n",
       "2               3       153430440  False                 look find boadilla   \n",
       "3               4       152776331  False  tecnocasa fuenlabrada ferrocarril   \n",
       "4               5       153180188  False            ferrari 57 inmobiliaria   \n",
       "...           ...             ...    ...                                ...   \n",
       "15330       15331       153901377  False                infocasa consulting   \n",
       "15331       15332       150394373  False                inmobiliaria pulpon   \n",
       "15332       15333       153901397  False             tecnocasa torrelodones   \n",
       "15333       15334       152607440  False                inmobiliaria pulpon   \n",
       "15334       15335       153901356  False                infocasa consulting   \n",
       "\n",
       "       phone_realEstate                                       url_inmueble  \\\n",
       "0           912177526.0  https://www.fotocasa.es/es/comprar/vivienda/ma...   \n",
       "1           916358736.0  https://www.fotocasa.es/es/comprar/vivienda/ma...   \n",
       "2           916350408.0  https://www.fotocasa.es/es/comprar/vivienda/ma...   \n",
       "3           916358736.0  https://www.fotocasa.es/es/comprar/vivienda/ma...   \n",
       "4           912177526.0  https://www.fotocasa.es/es/comprar/vivienda/ma...   \n",
       "...                 ...                                                ...   \n",
       "15330       911360461.0  https://www.fotocasa.es/es/comprar/vivienda/ma...   \n",
       "15331       912788039.0  https://www.fotocasa.es/es/comprar/vivienda/ma...   \n",
       "15332       912780348.0  https://www.fotocasa.es/es/comprar/vivienda/ma...   \n",
       "15333       912788039.0  https://www.fotocasa.es/es/comprar/vivienda/ma...   \n",
       "15334       911360461.0  https://www.fotocasa.es/es/comprar/vivienda/ma...   \n",
       "\n",
       "       rooms  bathrooms  surface   price  ... level4Id level5Id level6Id  \\\n",
       "0        3.0        2.0    103.0  195000  ...        0        0        0   \n",
       "1        3.0        1.0      NaN   89000  ...        0        0        0   \n",
       "2        2.0        2.0     99.0  390000  ...        0        0        0   \n",
       "3        3.0        1.0     86.0   89000  ...        0        0        0   \n",
       "4        2.0        2.0    106.0  172000  ...        0        0        0   \n",
       "...      ...        ...      ...     ...  ...      ...      ...      ...   \n",
       "15330    2.0        1.0     96.0  259470  ...        0        0        0   \n",
       "15331    3.0        1.0    150.0  165000  ...        0        0        0   \n",
       "15332    4.0        2.0    175.0  495000  ...        0        0        0   \n",
       "15333    3.0        2.0    101.0  195000  ...        0        0        0   \n",
       "15334    3.0        2.0    152.0  765000  ...        0        0        0   \n",
       "\n",
       "      level7Id level8Id accuracy          latitude          longitude zipCode  \\\n",
       "0            0        0        0  40,2948276786438  -3,44402412135624     NaN   \n",
       "1            0        0        1          40,28674           -3,79351     NaN   \n",
       "2            0        0        0  40,4115646786438  -3,90662252135624     NaN   \n",
       "3            0        0        0  40,2853785786438  -3,79508142135624     NaN   \n",
       "4            0        0        0  40,2998774864376  -3,45226301356237     NaN   \n",
       "...        ...      ...      ...               ...                ...     ...   \n",
       "15330        0        0        0          40,45416           -3,70286     NaN   \n",
       "15331        0        0        0          40,36652           -3,48951     NaN   \n",
       "15332        0        0        0          40,57444           -3,92124     NaN   \n",
       "15333        0        0        0          40,36967           -3,48105     NaN   \n",
       "15334        0        0        0          40,45773           -3,69068     NaN   \n",
       "\n",
       "      customZone  \n",
       "0            NaN  \n",
       "1            NaN  \n",
       "2            NaN  \n",
       "3            NaN  \n",
       "4            NaN  \n",
       "...          ...  \n",
       "15330        NaN  \n",
       "15331        NaN  \n",
       "15332        NaN  \n",
       "15333        NaN  \n",
       "15334        NaN  \n",
       "\n",
       "[15335 rows x 37 columns]"
      ]
     },
     "execution_count": 130,
     "metadata": {},
     "output_type": "execute_result"
    }
   ],
   "source": [
    "df = pd.read_csv('real_estate.csv', sep=';')\n",
    "df"
   ]
  },
  {
   "cell_type": "code",
   "execution_count": 131,
   "id": "76d6479b-8169-4f77-9b27-030302d1432f",
   "metadata": {},
   "outputs": [
    {
     "data": {
      "text/plain": [
       "(15335, 37)"
      ]
     },
     "execution_count": 131,
     "metadata": {},
     "output_type": "execute_result"
    }
   ],
   "source": [
    "# Print the number of rows and columns in the df using shape()\n",
    "df.shape"
   ]
  },
  {
   "cell_type": "code",
   "execution_count": 132,
   "id": "d12d8500-b553-469b-82df-a902a57f9a33",
   "metadata": {},
   "outputs": [
    {
     "data": {
      "text/html": [
       "<div>\n",
       "<style scoped>\n",
       "    .dataframe tbody tr th:only-of-type {\n",
       "        vertical-align: middle;\n",
       "    }\n",
       "\n",
       "    .dataframe tbody tr th {\n",
       "        vertical-align: top;\n",
       "    }\n",
       "\n",
       "    .dataframe thead th {\n",
       "        text-align: right;\n",
       "    }\n",
       "</style>\n",
       "<table border=\"1\" class=\"dataframe\">\n",
       "  <thead>\n",
       "    <tr style=\"text-align: right;\">\n",
       "      <th></th>\n",
       "      <th>Unnamed: 0</th>\n",
       "      <th>id_realEstates</th>\n",
       "      <th>isNew</th>\n",
       "      <th>realEstate_name</th>\n",
       "      <th>phone_realEstate</th>\n",
       "      <th>url_inmueble</th>\n",
       "      <th>rooms</th>\n",
       "      <th>bathrooms</th>\n",
       "      <th>surface</th>\n",
       "      <th>price</th>\n",
       "      <th>...</th>\n",
       "      <th>level4Id</th>\n",
       "      <th>level5Id</th>\n",
       "      <th>level6Id</th>\n",
       "      <th>level7Id</th>\n",
       "      <th>level8Id</th>\n",
       "      <th>accuracy</th>\n",
       "      <th>latitude</th>\n",
       "      <th>longitude</th>\n",
       "      <th>zipCode</th>\n",
       "      <th>customZone</th>\n",
       "    </tr>\n",
       "  </thead>\n",
       "  <tbody>\n",
       "    <tr>\n",
       "      <th>0</th>\n",
       "      <td>1</td>\n",
       "      <td>153771986</td>\n",
       "      <td>False</td>\n",
       "      <td>ferrari 57 inmobiliaria</td>\n",
       "      <td>912177526.0</td>\n",
       "      <td>https://www.fotocasa.es/es/comprar/vivienda/ma...</td>\n",
       "      <td>3.0</td>\n",
       "      <td>2.0</td>\n",
       "      <td>103.0</td>\n",
       "      <td>195000</td>\n",
       "      <td>...</td>\n",
       "      <td>0</td>\n",
       "      <td>0</td>\n",
       "      <td>0</td>\n",
       "      <td>0</td>\n",
       "      <td>0</td>\n",
       "      <td>0</td>\n",
       "      <td>40,2948276786438</td>\n",
       "      <td>-3,44402412135624</td>\n",
       "      <td>NaN</td>\n",
       "      <td>NaN</td>\n",
       "    </tr>\n",
       "    <tr>\n",
       "      <th>1</th>\n",
       "      <td>2</td>\n",
       "      <td>153867863</td>\n",
       "      <td>False</td>\n",
       "      <td>tecnocasa fuenlabrada ferrocarril</td>\n",
       "      <td>916358736.0</td>\n",
       "      <td>https://www.fotocasa.es/es/comprar/vivienda/ma...</td>\n",
       "      <td>3.0</td>\n",
       "      <td>1.0</td>\n",
       "      <td>NaN</td>\n",
       "      <td>89000</td>\n",
       "      <td>...</td>\n",
       "      <td>0</td>\n",
       "      <td>0</td>\n",
       "      <td>0</td>\n",
       "      <td>0</td>\n",
       "      <td>0</td>\n",
       "      <td>1</td>\n",
       "      <td>40,28674</td>\n",
       "      <td>-3,79351</td>\n",
       "      <td>NaN</td>\n",
       "      <td>NaN</td>\n",
       "    </tr>\n",
       "    <tr>\n",
       "      <th>2</th>\n",
       "      <td>3</td>\n",
       "      <td>153430440</td>\n",
       "      <td>False</td>\n",
       "      <td>look find boadilla</td>\n",
       "      <td>916350408.0</td>\n",
       "      <td>https://www.fotocasa.es/es/comprar/vivienda/ma...</td>\n",
       "      <td>2.0</td>\n",
       "      <td>2.0</td>\n",
       "      <td>99.0</td>\n",
       "      <td>390000</td>\n",
       "      <td>...</td>\n",
       "      <td>0</td>\n",
       "      <td>0</td>\n",
       "      <td>0</td>\n",
       "      <td>0</td>\n",
       "      <td>0</td>\n",
       "      <td>0</td>\n",
       "      <td>40,4115646786438</td>\n",
       "      <td>-3,90662252135624</td>\n",
       "      <td>NaN</td>\n",
       "      <td>NaN</td>\n",
       "    </tr>\n",
       "    <tr>\n",
       "      <th>3</th>\n",
       "      <td>4</td>\n",
       "      <td>152776331</td>\n",
       "      <td>False</td>\n",
       "      <td>tecnocasa fuenlabrada ferrocarril</td>\n",
       "      <td>916358736.0</td>\n",
       "      <td>https://www.fotocasa.es/es/comprar/vivienda/ma...</td>\n",
       "      <td>3.0</td>\n",
       "      <td>1.0</td>\n",
       "      <td>86.0</td>\n",
       "      <td>89000</td>\n",
       "      <td>...</td>\n",
       "      <td>0</td>\n",
       "      <td>0</td>\n",
       "      <td>0</td>\n",
       "      <td>0</td>\n",
       "      <td>0</td>\n",
       "      <td>0</td>\n",
       "      <td>40,2853785786438</td>\n",
       "      <td>-3,79508142135624</td>\n",
       "      <td>NaN</td>\n",
       "      <td>NaN</td>\n",
       "    </tr>\n",
       "    <tr>\n",
       "      <th>4</th>\n",
       "      <td>5</td>\n",
       "      <td>153180188</td>\n",
       "      <td>False</td>\n",
       "      <td>ferrari 57 inmobiliaria</td>\n",
       "      <td>912177526.0</td>\n",
       "      <td>https://www.fotocasa.es/es/comprar/vivienda/ma...</td>\n",
       "      <td>2.0</td>\n",
       "      <td>2.0</td>\n",
       "      <td>106.0</td>\n",
       "      <td>172000</td>\n",
       "      <td>...</td>\n",
       "      <td>0</td>\n",
       "      <td>0</td>\n",
       "      <td>0</td>\n",
       "      <td>0</td>\n",
       "      <td>0</td>\n",
       "      <td>0</td>\n",
       "      <td>40,2998774864376</td>\n",
       "      <td>-3,45226301356237</td>\n",
       "      <td>NaN</td>\n",
       "      <td>NaN</td>\n",
       "    </tr>\n",
       "  </tbody>\n",
       "</table>\n",
       "<p>5 rows × 37 columns</p>\n",
       "</div>"
      ],
      "text/plain": [
       "   Unnamed: 0  id_realEstates  isNew                    realEstate_name  \\\n",
       "0           1       153771986  False            ferrari 57 inmobiliaria   \n",
       "1           2       153867863  False  tecnocasa fuenlabrada ferrocarril   \n",
       "2           3       153430440  False                 look find boadilla   \n",
       "3           4       152776331  False  tecnocasa fuenlabrada ferrocarril   \n",
       "4           5       153180188  False            ferrari 57 inmobiliaria   \n",
       "\n",
       "   phone_realEstate                                       url_inmueble  rooms  \\\n",
       "0       912177526.0  https://www.fotocasa.es/es/comprar/vivienda/ma...    3.0   \n",
       "1       916358736.0  https://www.fotocasa.es/es/comprar/vivienda/ma...    3.0   \n",
       "2       916350408.0  https://www.fotocasa.es/es/comprar/vivienda/ma...    2.0   \n",
       "3       916358736.0  https://www.fotocasa.es/es/comprar/vivienda/ma...    3.0   \n",
       "4       912177526.0  https://www.fotocasa.es/es/comprar/vivienda/ma...    2.0   \n",
       "\n",
       "   bathrooms  surface   price  ... level4Id level5Id level6Id level7Id  \\\n",
       "0        2.0    103.0  195000  ...        0        0        0        0   \n",
       "1        1.0      NaN   89000  ...        0        0        0        0   \n",
       "2        2.0     99.0  390000  ...        0        0        0        0   \n",
       "3        1.0     86.0   89000  ...        0        0        0        0   \n",
       "4        2.0    106.0  172000  ...        0        0        0        0   \n",
       "\n",
       "  level8Id accuracy          latitude          longitude zipCode customZone  \n",
       "0        0        0  40,2948276786438  -3,44402412135624     NaN        NaN  \n",
       "1        0        1          40,28674           -3,79351     NaN        NaN  \n",
       "2        0        0  40,4115646786438  -3,90662252135624     NaN        NaN  \n",
       "3        0        0  40,2853785786438  -3,79508142135624     NaN        NaN  \n",
       "4        0        0  40,2998774864376  -3,45226301356237     NaN        NaN  \n",
       "\n",
       "[5 rows x 37 columns]"
      ]
     },
     "execution_count": 132,
     "metadata": {},
     "output_type": "execute_result"
    }
   ],
   "source": [
    "# Show first 5 rows\n",
    "df.head(5)"
   ]
  },
  {
   "cell_type": "code",
   "execution_count": 133,
   "id": "d774a1cd-aff4-433d-8922-d08ce19d13c3",
   "metadata": {},
   "outputs": [
    {
     "name": "stdout",
     "output_type": "stream",
     "text": [
      "Index(['Unnamed: 0', 'id_realEstates', 'isNew', 'realEstate_name',\n",
      "       'phone_realEstate', 'url_inmueble', 'rooms', 'bathrooms', 'surface',\n",
      "       'price', 'date', 'description', 'address', 'country', 'level1',\n",
      "       'level2', 'level3', 'level4', 'level5', 'level6', 'level7', 'level8',\n",
      "       'upperLevel', 'countryId', 'level1Id', 'level2Id', 'level3Id',\n",
      "       'level4Id', 'level5Id', 'level6Id', 'level7Id', 'level8Id', 'accuracy',\n",
      "       'latitude', 'longitude', 'zipCode', 'customZone'],\n",
      "      dtype='object')\n",
      " \n"
     ]
    }
   ],
   "source": [
    "# Show the column name\n",
    "print(df.columns)\n",
    "print(' ')"
   ]
  },
  {
   "cell_type": "markdown",
   "id": "e36ce6c4-e022-4aae-ab80-33f7519ca541",
   "metadata": {},
   "source": [
    "#### Exercise 01: which is the most expensive house in the dataset? Print only the 'address' and 'price' columns"
   ]
  },
  {
   "cell_type": "code",
   "execution_count": 134,
   "id": "ecd1fb8b-8e76-482d-94ef-9c46e3b7aa04",
   "metadata": {},
   "outputs": [
    {
     "name": "stdout",
     "output_type": "stream",
     "text": [
      "The most expensive house is located at El Escorial and costs 8500000 euros.\n",
      " \n"
     ]
    }
   ],
   "source": [
    "df[['address', 'price']][df['price'] == df['price'].max()]    # this shows index, address and price column of most expensive house\n",
    "print('The most expensive house is located at', df.loc[df['price'].idxmax()]['address'], 'and costs', df['price'].max(), 'euros.')\n",
    "print(' ')"
   ]
  },
  {
   "cell_type": "markdown",
   "id": "8594dc3e-8610-4c60-b1ed-4f548fdd9d2e",
   "metadata": {},
   "source": [
    "#### Exercise 02: Which is the cheapest house in the dataset? Print the address and price of the selected house."
   ]
  },
  {
   "cell_type": "code",
   "execution_count": 135,
   "id": "9cfad4c4-1310-4840-8a09-9e80df540838",
   "metadata": {},
   "outputs": [
    {
     "name": "stdout",
     "output_type": "stream",
     "text": [
      "The cheapest house is located at Parla and costs 0 euros.\n",
      " \n"
     ]
    }
   ],
   "source": [
    "print('The cheapest house is located at', df.loc[df['price'].idxmin()]['address'], 'and costs', df['price'].min(), 'euros.')\n",
    "print(' ')"
   ]
  },
  {
   "cell_type": "markdown",
   "id": "fe93970b-695c-41a8-99fa-fdb7a8e860db",
   "metadata": {},
   "source": [
    "#### Exercise 03: Which is the biggest and smallest house in the dataset? print only the 'address' and 'surface' columns and the surface of the selected houses"
   ]
  },
  {
   "cell_type": "code",
   "execution_count": 136,
   "id": "7454fa3c-43a6-40d8-a509-475cf3117965",
   "metadata": {},
   "outputs": [
    {
     "name": "stdout",
     "output_type": "stream",
     "text": [
      "The biggest house is located in Sevilla la Nueva and has 249000.0 square meters.\n",
      " \n",
      "The smallest house is located in Calle Amparo,  Madrid Capital and has 15.0 square meters.\n",
      " \n"
     ]
    }
   ],
   "source": [
    "print('The biggest house is located in', df.loc[df['surface'].idxmax()]['address'], 'and has', df['surface'].max(), 'square meters.')\n",
    "print(' ')\n",
    "print('The smallest house is located in', df.loc[df['surface'].idxmin()]['address'], 'and has', df['surface'].min(), 'square meters.')\n",
    "print(' ')"
   ]
  },
  {
   "cell_type": "markdown",
   "id": "fe6553f7-446a-4686-8b78-e5f5e2dc610d",
   "metadata": {},
   "source": [
    "#### Exercise 04: How many populations (level5 column) the dataset contains? Print the name of the populations with comma separator."
   ]
  },
  {
   "cell_type": "code",
   "execution_count": 137,
   "id": "dfe4233d-801a-4698-8f89-07cd1166dcb9",
   "metadata": {},
   "outputs": [
    {
     "name": "stdout",
     "output_type": "stream",
     "text": [
      "The populations in level5 column are:  Arganda del Rey, Fuenlabrada, Boadilla del Monte, Las Rozas de Madrid,  Madrid Capital, Villaviciosa de Odón, Pinto, Valdemoro, Navalcarnero, Pozuelo de Alarcón, Torrejón de Ardoz, Navalagamella, San Sebastián de los Reyes, Rivas-vaciamadrid, Alpedrete, Móstoles, San Fernando de Henares, Coslada, Becerril de la Sierra, Alcalá de Henares, Chinchón, Parla, Alcorcón, El Escorial, Leganés, Pedrezuela, Majadahonda, Villanueva de la Cañada, Villanueva del Pardillo, Torrelodones, Moralzarzal, Mejorada del Campo, Aranjuez, Corpa, Getafe, Velilla de San Antonio, Sevilla la Nueva, San Martín de la Vega, Villalbilla, Collado Villalba, Alcobendas, El Molar (Madrid), Moraleja de Enmedio, Algete, Campo Real, Torrejón de la Calzada, Colmenar Viejo, Valdemorillo, Fuente El Saz de Jarama, Tres Cantos, Arroyomolinos (Madrid), Griñón, Paracuellos de Jarama, Guadarrama, Titulcia, Galapagar, Collado Mediano, Los Molinos, San Lorenzo de El Escorial, Loeches, San Martín de Valdeiglesias, Navas del Rey, Bustarviejo, Manzanares El Real, Carabaña, Casarrubuelos, Cercedilla, Fresnedillas de la Oliva, Valdemaqueda, Robledo de Chavela, Miraflores de la Sierra, Humanes de Madrid, Valdetorres de Jarama, San Agustín del Guadalix, Ciempozuelos, Camarma de Esteruelas, Torres de la Alameda, Talamanca de Jarama, El Atazar, Hoyo de Manzanares, El Boalo - Cerceda – Mataelpino, El Álamo, Valdilecha, Valdeolmos-Alalpardo, Guadalix de la Sierra, Belmonte de Tajo, El Vellón, Brunete, Redueña, Morata de Tajuña, Tielmes, Gargantilla del Lozoya, Meco, Venturada, Quijorna, Cenicientos, Torrejón de Velasco, Navacerrada, Santa María de la Alameda, Orusco de Tajuña, Daganzo de Arriba, Villamanta, Anchuelo, Valdaracete, Ajalvir, Los Santos de la Humosa, Villamanrique de Tajo, Colmenar de Oreja, Villa del Prado, Fuentidueña de Tajo, Colmenar del Arroyo, Valdelaguna, Cubas de la Sagra, Valdeavero, Aldea del Fresno, Ribatejada, Torrelaguna, Batres, Pezuela de las Torres, Colmenarejo, Serranillos del Valle, Cobeña, Soto del Real, El Berrueco, Villanueva de Perales, Fresno de Torote - Serracines, Pozuelo del Rey, Pelayos de la Presa, La Cabrera, Nuevo Baztán, Perales de Tajuña, Villaconejos, Villarejo de Salvanés, Cadalso de los Vidrios, Santorcaz, Madarcos, Garganta de los Montes, Puentes Viejas, Torremocha de Jarama, Valdemanco, Braojos, Lozoyuela-navas-sieteiglesias, Piñuécar-gandullas, Valdepiélagos, Valverde de Alcalá, Villar del Olmo, Villamantilla, Horcajo de la Sierra, Gascones, Zarzalejo, Villavieja del Lozoya, Brea de Tajo, Estremera, Chapinería, Navarredonda, Patones, Ambite, Navalafuente, Lozoya, Canencia, Cabanillas de la Sierra, Buitrago del Lozoya, Fresno de Torote, Robregordo, Pinilla del Valle, Rascafría, La Hiruela, Montejo de la Sierra\n",
      " \n",
      "And the number of the above populations is 168\n"
     ]
    }
   ],
   "source": [
    "print('The populations in level5 column are: ', ', '.join(df['level5'].unique()))\n",
    "# another way would be: df['level5'].unique()\n",
    "print(' ')\n",
    "print('And the number of the above populations is', df['level5'].nunique())"
   ]
  },
  {
   "cell_type": "markdown",
   "id": "76e4955a-bec0-4b7b-88ac-859aad6e2b81",
   "metadata": {},
   "source": [
    "#### Exercise 05: Does the dataset contains NAs? Print a boolean value (true or fase) followed by the rows/cols that contains NAs."
   ]
  },
  {
   "cell_type": "code",
   "execution_count": 138,
   "id": "79a604a9-9258-4eb0-b157-33dcb263a783",
   "metadata": {},
   "outputs": [
    {
     "name": "stdout",
     "output_type": "stream",
     "text": [
      "Does the dataset contains NAs? True\n",
      "The rows and columns that contain NAs are: \n",
      "Unnamed: 0              0\n",
      "id_realEstates          0\n",
      "isNew                   0\n",
      "realEstate_name        10\n",
      "phone_realEstate      794\n",
      "url_inmueble            0\n",
      "rooms                 353\n",
      "bathrooms             345\n",
      "surface              1250\n",
      "price                   0\n",
      "date                    0\n",
      "description           142\n",
      "address                 0\n",
      "country                 0\n",
      "level1                  0\n",
      "level2                  0\n",
      "level3                  0\n",
      "level4               6643\n",
      "level5                  0\n",
      "level6              14627\n",
      "level7               2277\n",
      "level8               8579\n",
      "upperLevel              0\n",
      "countryId               0\n",
      "level1Id                0\n",
      "level2Id                0\n",
      "level3Id                0\n",
      "level4Id                0\n",
      "level5Id                0\n",
      "level6Id                0\n",
      "level7Id                0\n",
      "level8Id                0\n",
      "accuracy                0\n",
      "latitude                0\n",
      "longitude               0\n",
      "zipCode             15335\n",
      "customZone          15335\n",
      "dtype: int64\n",
      " \n"
     ]
    }
   ],
   "source": [
    "print('Does the dataset contains NAs?', df.isnull().values.any())\n",
    "print('The rows and columns that contain NAs are: ')\n",
    "print(df.isnull().sum())\n",
    "print(' ')"
   ]
  },
  {
   "cell_type": "markdown",
   "id": "98b97a68-2999-4d10-b72a-bc4540c7a5ec",
   "metadata": {},
   "source": [
    "#### Exercise 06: Delete the NAs from the dataset and print a comparison between the dimensions of the original dataset versus the new dataset after the deletion"
   ]
  },
  {
   "cell_type": "code",
   "execution_count": 139,
   "id": "c35d7459-c335-43af-b4e1-ebd5f3a4b501",
   "metadata": {},
   "outputs": [],
   "source": [
    "# print('The original dataset dimensions are: ', df.shape)\n",
    "# df_after_na_deletion = df.dropna()\n",
    "# print('The new dataset dimensions are: ', df_after_na_deletion.shape)"
   ]
  },
  {
   "cell_type": "markdown",
   "id": "f6862a7b-66d6-46d3-b0c0-ec0f2c2d8b9e",
   "metadata": {},
   "source": [
    "#### Exercise 07: Which is the mean of prices in the population (level5 column) of 'Arroyomolions (Madrid)'"
   ]
  },
  {
   "cell_type": "code",
   "execution_count": 140,
   "id": "1cb6bf87-0c1b-4199-9b04-d18f4f69da14",
   "metadata": {},
   "outputs": [
    {
     "name": "stdout",
     "output_type": "stream",
     "text": [
      "The mean of prices in Arroyomolinos (Madrid) is:  294541.59854014596\n",
      " \n"
     ]
    }
   ],
   "source": [
    "# Exercise 7: Which is the mean of prices in the population (level5 column) of \"Arroyomolinos (Madrid)\"?\n",
    "print('The mean of prices in Arroyomolinos (Madrid) is: ', df[df['level5'] == 'Arroyomolinos (Madrid)']['price'].mean())\n",
    "print(' ')"
   ]
  },
  {
   "cell_type": "markdown",
   "id": "6e680550-35bf-44e1-89a6-941ecbb631a6",
   "metadata": {},
   "source": [
    "#### Exercise 08: Plot the histogram of prices for the population (level5 column) of \"Arroyomolinos (Madrid)\" and explain the results"
   ]
  },
  {
   "cell_type": "code",
   "execution_count": 141,
   "id": "cf3f7637-ce21-4b34-a460-65c0c945e2e5",
   "metadata": {},
   "outputs": [
    {
     "name": "stdout",
     "output_type": "stream",
     "text": [
      " \n"
     ]
    },
    {
     "data": {
      "image/png": "[encoded data removed]",
      "text/plain": [
       "<Figure size 640x480 with 1 Axes>"
      ]
     },
     "metadata": {},
     "output_type": "display_data"
    }
   ],
   "source": [
    "df[df['level5'] == 'Arroyomolinos (Madrid)']['price'].hist()\n",
    "#can also be: df['price'][df['level5'] == 'Arroyomolinos (Madrid)'].plot(kind='hist',bins=10, color='green', edgecolor='black') \n",
    "plt.xlabel('Price (€)')\n",
    "plt.ylabel('Frequency')\n",
    "plt.title('Histogram of prices for the population of Arroyomolinos (Madrid)')\n",
    "print(' ')"
   ]
  },
  {
   "cell_type": "markdown",
   "id": "8b0a7547-7d3f-4081-ac5d-031ad41aeee0",
   "metadata": {},
   "source": [
    "#### Exercise 09: Are the averages of \"Valdemorillo\" and \"Galapagar\" prices the same? Print both average prices and write a conclusion"
   ]
  },
  {
   "cell_type": "code",
   "execution_count": 142,
   "id": "452779df-21ed-4624-99d3-229fc7f931ec",
   "metadata": {},
   "outputs": [
    {
     "name": "stdout",
     "output_type": "stream",
     "text": [
      "The average price in Valdemorillo is 363860.2931034483 and the average price in Galapagar is 360063.20238095237\n",
      "Populations have similar average price.\n",
      " \n"
     ]
    }
   ],
   "source": [
    "print('The average price in Valdemorillo is', df[df['level5'] == 'Valdemorillo']['price'].mean(), 'and the average price in Galapagar is', df[df['level5'] == 'Galapagar']['price'].mean())\n",
    "print('Populations have similar average price.')\n",
    "print(' ')\n",
    "# Bar chart to show the above\n",
    "#plt.subplot(1,2,1)\n",
    "#plt.bar('Valdemorillo', df['price'][df['level5'] == 'Valdemorillo'].mean(), color='green')\n",
    "#plt.xlabel('Valdemorillo')\n",
    "#plt.ylabel('Average price (€)')\n",
    "#plt.subplot(1,2,2)\n",
    "#plt.bar('Galapagar', df['price'][df['level5'] == 'Galapagar'].mean(), color='green')\n",
    "#plt.xlabel('Galapagar')\n",
    "#plt.ylabel('Average price (€)')\n",
    "#plt.tight_layout()\n",
    "#plt.show()"
   ]
  },
  {
   "cell_type": "markdown",
   "id": "fa5b4e7a-8975-4ac5-9b64-8307c0c67132",
   "metadata": {},
   "source": [
    "#### Exercise 10: Are the averages of \"Valdemorillo\" and \"Galapagar\" price per square meter (price/m2) the same?"
   ]
  },
  {
   "cell_type": "code",
   "execution_count": 143,
   "id": "260b22d8-ef47-4197-bb32-8d9451a35202",
   "metadata": {},
   "outputs": [
    {
     "name": "stdout",
     "output_type": "stream",
     "text": [
      "The price per square meter in Valdemorillo is 1039.5447972876266\n",
      "The price per square meter in Galapagar is 1178.5257998852853\n",
      " \n"
     ]
    }
   ],
   "source": [
    "print('The price per square meter in Valdemorillo is', df[df['level5'] == 'Valdemorillo']['price'].mean() / df[df['level5'] == 'Valdemorillo']['surface'].mean())\n",
    "print('The price per square meter in Galapagar is', df[df['level5'] == 'Galapagar']['price'].mean() / df[df['level5'] == 'Galapagar']['surface'].mean())\n",
    "print(' ')"
   ]
  },
  {
   "cell_type": "markdown",
   "id": "65f7cf44-ee8a-43f8-b838-57c62848121a",
   "metadata": {},
   "source": [
    "#### Exercise 11: Analyse the relation between the surface and the price of the houses"
   ]
  },
  {
   "cell_type": "code",
   "execution_count": 144,
   "id": "db64f1c3-6bc2-4599-804e-d2dfa9f41da5",
   "metadata": {},
   "outputs": [
    {
     "data": {
      "image/png": "[encoded data removed]",
      "text/plain": [
       "<Figure size 640x480 with 2 Axes>"
      ]
     },
     "metadata": {},
     "output_type": "display_data"
    }
   ],
   "source": [
    "# Create scatter plot for the relationship between surface and price of houses in 'Valdemorillo' and 'Galapagar' \n",
    "plt.subplot(1,2,1)\n",
    "plt.scatter(df['price'][df['level5'] == 'Valdemorillo'] / 1000, df['surface'][df['level5'] == 'Valdemorillo'], color='green')\n",
    "plt.xlabel('Price (thousands of €)')\n",
    "plt.ylabel('Surface (m2)')\n",
    "plt.title('Valdemorillo')\n",
    "plt.subplot(1,2,2)\n",
    "plt.scatter(df['price'][df['level5'] == 'Galapagar'] / 1000, df['surface'][df['level5'] == 'Galapagar'], color='blue')\n",
    "plt.xlabel('Price (thousands of €)')\n",
    "plt.ylabel('Surface (m2)')\n",
    "plt.title('Galapagar')\n",
    "plt.tight_layout() # To avoid overlapping between subplots\n",
    "plt.show()"
   ]
  },
  {
   "cell_type": "markdown",
   "id": "388a05ac-c873-40df-862b-4d5b44c6904b",
   "metadata": {},
   "source": [
    "#### Exercise 12: How many real estate agencies the dataset contains?"
   ]
  },
  {
   "cell_type": "code",
   "execution_count": 145,
   "id": "dc5f82ce-a734-43be-bb9b-b8125f50f39c",
   "metadata": {},
   "outputs": [
    {
     "name": "stdout",
     "output_type": "stream",
     "text": [
      "The number of real estate agencies is 1821\n",
      " \n"
     ]
    }
   ],
   "source": [
    "print('The number of real estate agencies is', df['realEstate_name'].nunique()) # nunique() returns number of unique values excluding NaN values (null values)\n",
    "print(' ')"
   ]
  },
  {
   "cell_type": "markdown",
   "id": "6d338b9e-4443-48e6-b068-9076f49a563a",
   "metadata": {},
   "source": [
    "#### Exercise 13: Which is the population (level5 column) that contains the most houses?"
   ]
  },
  {
   "cell_type": "code",
   "execution_count": 146,
   "id": "a90c8b81-e70c-4809-a7ef-f0e64af3e35b",
   "metadata": {},
   "outputs": [
    {
     "name": "stdout",
     "output_type": "stream",
     "text": [
      "The population that contains the most houses is  Madrid Capital\n",
      " \n"
     ]
    }
   ],
   "source": [
    "print('The population that contains the most houses is', df['level5'].value_counts().idxmax())\n",
    "print(' ')"
   ]
  },
  {
   "cell_type": "markdown",
   "id": "68dab679-be83-4256-81a9-3c639082077c",
   "metadata": {},
   "source": [
    "#### Exercise 14: Make a subset of the original dataframe that contains Fuenlabrada, Leganés, Getafe and Alcorcón"
   ]
  },
  {
   "cell_type": "code",
   "execution_count": 147,
   "id": "62ced0bb-b5ca-4291-84af-12e58893fed2",
   "metadata": {},
   "outputs": [
    {
     "name": "stdout",
     "output_type": "stream",
     "text": [
      " \n"
     ]
    }
   ],
   "source": [
    "df_subset = df[df['level5'].isin([\"Fuenlabrada\",\"Leganés\",\"Getafe\",\"Alcorcón\"])]\n",
    "df_subset.head()\n",
    "print(' ')"
   ]
  },
  {
   "cell_type": "markdown",
   "id": "1b929e0c-3e49-43a8-9ee4-fc2e9679ba2f",
   "metadata": {},
   "source": [
    "#### Exercise 15: Using df_subset make a bar plot of the median of the prices and explain what you observe"
   ]
  },
  {
   "cell_type": "code",
   "execution_count": 148,
   "id": "a3c2ddbc-3b2e-4ca9-9e31-c33d950927fc",
   "metadata": {},
   "outputs": [
    {
     "data": {
      "image/png": "[encoded data removed]",
      "text/plain": [
       "<Figure size 640x480 with 1 Axes>"
      ]
     },
     "metadata": {},
     "output_type": "display_data"
    }
   ],
   "source": [
    "df_subset.groupby('level5')['price'].median().plot(kind='bar')\n",
    "plt.xlabel('Populations')\n",
    "plt.ylabel('Prices (thousands of €)')\n",
    "plt.title('South belt of Madrid')\n",
    "plt.show()"
   ]
  },
  {
   "cell_type": "markdown",
   "id": "16b67842-3e88-4edf-96d9-628a98ceab7e",
   "metadata": {},
   "source": [
    "#### Exercise 16: Calculate the sample mean and variance of the variables price, rooms, surface area and bathrooms in df_subset"
   ]
  },
  {
   "cell_type": "code",
   "execution_count": 149,
   "id": "76eab3a0-3ca4-44fc-8034-ef34ff4b5a7c",
   "metadata": {},
   "outputs": [
    {
     "name": "stdout",
     "output_type": "stream",
     "text": [
      "The sample mean of the variables price, rooms, surface area and bathrooms for the df_subset are: \n",
      "price        223094.480706\n",
      "rooms             3.017738\n",
      "surface         111.752224\n",
      "bathrooms         1.633222\n",
      "dtype: float64\n",
      " \n",
      "The sample variance of the variables price, rooms, surface area and bathrooms for the df_subset are: \n",
      "price        1.492137e+10\n",
      "rooms        7.188859e-01\n",
      "surface      4.263052e+03\n",
      "bathrooms    5.717969e-01\n",
      "dtype: float64\n",
      " \n"
     ]
    }
   ],
   "source": [
    "print('The sample mean of the variables price, rooms, surface area and bathrooms for the df_subset are: ')\n",
    "print(df_subset[['price','rooms','surface','bathrooms']].mean())\n",
    "print(' ')\n",
    "print('The sample variance of the variables price, rooms, surface area and bathrooms for the df_subset are: ')\n",
    "print(df_subset[['price','rooms','surface','bathrooms']].var())\n",
    "print(' ')"
   ]
  },
  {
   "cell_type": "markdown",
   "id": "ff9c0999-9f70-457c-a133-de1e72a913bc",
   "metadata": {},
   "source": [
    "#### Exercise 17: What is the most expensive house of each population from df_subset?"
   ]
  },
  {
   "cell_type": "code",
   "execution_count": 150,
   "id": "4e7357e7-1fc8-4056-830b-8be90832faa7",
   "metadata": {},
   "outputs": [
    {
     "name": "stdout",
     "output_type": "stream",
     "text": [
      "Fuenlabrada => Address: Calle de Paulo Freire, 5, Fuenlabrada Price 490000 €\n",
      "Leganés => Address: Avenida Reina Sofía, Leganés Price 650000 €\n",
      "Getafe => Address: Getafe Price 1050000 €\n",
      "Alcorcón => Address: Alcorcón Price 950000 €\n"
     ]
    },
    {
     "name": "stderr",
     "output_type": "stream",
     "text": [
      "C:\\Users\\Jorge Payà\\AppData\\Local\\Temp\\ipykernel_15220\\1084212321.py:1: UserWarning: Boolean Series key will be reindexed to match DataFrame index.\n",
      "  print('Fuenlabrada => Address:', df_subset[df['level5'] == 'Fuenlabrada'].loc[df_subset[df_subset['level5'] == 'Fuenlabrada']['price'].idxmax()]['address'], 'Price', df_subset[df_subset['level5'] == 'Fuenlabrada']['price'].max(), '€')\n",
      "C:\\Users\\Jorge Payà\\AppData\\Local\\Temp\\ipykernel_15220\\1084212321.py:2: UserWarning: Boolean Series key will be reindexed to match DataFrame index.\n",
      "  print('Leganés => Address:', df_subset[df['level5'] == 'Leganés'].loc[df_subset[df_subset['level5'] == 'Leganés']['price'].idxmax()]['address'], 'Price', df_subset[df_subset['level5'] == 'Leganés']['price'].max(), '€')\n",
      "C:\\Users\\Jorge Payà\\AppData\\Local\\Temp\\ipykernel_15220\\1084212321.py:3: UserWarning: Boolean Series key will be reindexed to match DataFrame index.\n",
      "  print('Getafe => Address:', df_subset[df['level5'] == 'Getafe'].loc[df_subset[df_subset['level5'] == 'Getafe']['price'].idxmax()]['address'], 'Price', df_subset[df_subset['level5'] == 'Getafe']['price'].max(), '€')\n",
      "C:\\Users\\Jorge Payà\\AppData\\Local\\Temp\\ipykernel_15220\\1084212321.py:4: UserWarning: Boolean Series key will be reindexed to match DataFrame index.\n",
      "  print('Alcorcón => Address:', df_subset[df['level5'] == 'Alcorcón'].loc[df_subset[df_subset['level5'] == 'Alcorcón']['price'].idxmax()]['address'], 'Price', df_subset[df_subset['level5'] == 'Alcorcón']['price'].max(), '€')\n"
     ]
    }
   ],
   "source": [
    "print('Fuenlabrada => Address:', df_subset[df['level5'] == 'Fuenlabrada'].loc[df_subset[df_subset['level5'] == 'Fuenlabrada']['price'].idxmax()]['address'], 'Price', df_subset[df_subset['level5'] == 'Fuenlabrada']['price'].max(), '€')\n",
    "print('Leganés => Address:', df_subset[df['level5'] == 'Leganés'].loc[df_subset[df_subset['level5'] == 'Leganés']['price'].idxmax()]['address'], 'Price', df_subset[df_subset['level5'] == 'Leganés']['price'].max(), '€')\n",
    "print('Getafe => Address:', df_subset[df['level5'] == 'Getafe'].loc[df_subset[df_subset['level5'] == 'Getafe']['price'].idxmax()]['address'], 'Price', df_subset[df_subset['level5'] == 'Getafe']['price'].max(), '€')\n",
    "print('Alcorcón => Address:', df_subset[df['level5'] == 'Alcorcón'].loc[df_subset[df_subset['level5'] == 'Alcorcón']['price'].idxmax()]['address'], 'Price', df_subset[df_subset['level5'] == 'Alcorcón']['price'].max(), '€')"
   ]
  },
  {
   "cell_type": "markdown",
   "id": "13be8c87-9339-4fbf-b418-054c46b1e69a",
   "metadata": {},
   "source": [
    "#### Exercise 18: Normalize the variable of prices for each population and plot 4 histograms in the same plot for df_subset"
   ]
  },
  {
   "cell_type": "code",
   "execution_count": 151,
   "id": "93470011-6123-4d97-ac7d-7e55e628dbc8",
   "metadata": {},
   "outputs": [
    {
     "data": {
      "text/plain": [
       "level5\n",
       "Alcorcón       Axes(0.125,0.11;0.775x0.77)\n",
       "Fuenlabrada    Axes(0.125,0.11;0.775x0.77)\n",
       "Getafe         Axes(0.125,0.11;0.775x0.77)\n",
       "Leganés        Axes(0.125,0.11;0.775x0.77)\n",
       "Name: price, dtype: object"
      ]
     },
     "execution_count": 151,
     "metadata": {},
     "output_type": "execute_result"
    },
    {
     "data": {
      "image/png": "[encoded data removed]",
      "text/plain": [
       "<Figure size 640x480 with 1 Axes>"
      ]
     },
     "metadata": {},
     "output_type": "display_data"
    }
   ],
   "source": [
    "fig, ax = plt.subplots()   # creates new figure, since no args are passed to subplots() it creates a single subplot in fig and returns figure (fig) and axes (ax)\n",
    "df_subset.groupby('level5')['price'].plot(kind='hist', alpha=0.5, legend=True)\n",
    "# the above creates a histogram for each group, the alpha=0.5 param sets the transparency of hist to 50%"
   ]
  },
  {
   "cell_type": "markdown",
   "id": "deec5d4b-6fbd-4bac-b672-3724e53c0f5e",
   "metadata": {},
   "source": [
    "<div class=\"alert alert-block alert-warning\">\r\n",
    "<bWARNINGe:</b>EXERCISE 18 MUST BE REVIEWED.\r\n",
    "</div>"
   ]
  },
  {
   "cell_type": "markdown",
   "id": "2cd9fb73-1ba0-4493-b0d2-a7164d8624b2",
   "metadata": {},
   "source": [
    "#### Exercise 19: What can you say about the price per square meter (price/m2) between the towns of Getafe and Alcorcón"
   ]
  },
  {
   "cell_type": "code",
   "execution_count": 152,
   "id": "c2f86aa6-4bc7-4744-919f-475432432f90",
   "metadata": {},
   "outputs": [
    {
     "name": "stdout",
     "output_type": "stream",
     "text": [
      "The price per square meter of Getafe is 2066.314949251463 and the price per square meter in Alcorcón is 2239.302480199618\n"
     ]
    },
    {
     "name": "stderr",
     "output_type": "stream",
     "text": [
      "C:\\Users\\Jorge Payà\\AppData\\Local\\Temp\\ipykernel_15220\\2595511621.py:1: SettingWithCopyWarning: \n",
      "A value is trying to be set on a copy of a slice from a DataFrame.\n",
      "Try using .loc[row_indexer,col_indexer] = value instead\n",
      "\n",
      "See the caveats in the documentation: https://pandas.pydata.org/pandas-docs/stable/user_guide/indexing.html#returning-a-view-versus-a-copy\n",
      "  df_subset['price_per_m2'] = df_subset['price'] / df_subset['surface']\n"
     ]
    }
   ],
   "source": [
    "df_subset['price_per_m2'] = df_subset['price'] / df_subset['surface']\n",
    "print('The price per square meter of Getafe is', df_subset[df_subset['level5'] == 'Getafe']['price_per_m2'].mean(), 'and the price per square meter in Alcorcón is', df_subset[df_subset['level5'] == 'Alcorcón']['price_per_m2'].mean())    "
   ]
  },
  {
   "cell_type": "markdown",
   "id": "58e35265-e1cb-403f-a193-173b18bae86c",
   "metadata": {},
   "source": [
    "#### Exercise 20: Make the same subplot for 4 different populations and rearrange them on the same graph"
   ]
  },
  {
   "cell_type": "code",
   "execution_count": 154,
   "id": "05a7665e-5e3a-4d38-8e25-64051d286964",
   "metadata": {},
   "outputs": [
    {
     "data": {
      "text/plain": [
       "Text(0, 0.5, 'Prices (thousands of €)')"
      ]
     },
     "execution_count": 154,
     "metadata": {},
     "output_type": "execute_result"
    },
    {
     "data": {
      "image/png": "[encoded data removed]",
      "text/plain": [
       "<Figure size 640x480 with 1 Axes>"
      ]
     },
     "metadata": {},
     "output_type": "display_data"
    }
   ],
   "source": [
    "df_subset2 = df[df['level5'].isin([\"Navalcarnero\",\"Parla\",\"Tres Cantos\",\"San Sebastián de los Reyes\"])]\n",
    "df_subset2.groupby('level5')['price'].median().plot(kind='bar')\n",
    "plt.xlabel('Populations')\n",
    "plt.ylabel('Prices (thousands of €)')"
   ]
  },
  {
   "cell_type": "markdown",
   "id": "161d6b8c-5be6-4e3b-8edd-e66caa5689ef",
   "metadata": {},
   "source": [
    "#### Exercise 21: Make a plot of the coordinates (latitude and longitude columns) of the south belt of Madrid by color of each population"
   ]
  },
  {
   "cell_type": "markdown",
   "id": "80c5db0d-4d5a-4437-a419-bc4c69825b31",
   "metadata": {},
   "source": [
    "<div class=\"alert alert-block alert-warning\">\n",
    "<b>WARNING:</b> EXERCISE 21 MUST BE REVIEWED\n",
    "</div>"
   ]
  }
 ],
 "metadata": {
  "kernelspec": {
   "display_name": "Python 3 (ipykernel)",
   "language": "python",
   "name": "python3"
  },
  "language_info": {
   "codemirror_mode": {
    "name": "ipython",
    "version": 3
   },
   "file_extension": ".py",
   "mimetype": "text/x-python",
   "name": "python",
   "nbconvert_exporter": "python",
   "pygments_lexer": "ipython3",
   "version": "3.11.3"
  }
 },
 "nbformat": 4,
 "nbformat_minor": 5
}
